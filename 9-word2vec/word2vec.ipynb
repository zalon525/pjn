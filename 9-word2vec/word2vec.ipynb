{
 "cells": [
  {
   "cell_type": "markdown",
   "metadata": {},
   "source": [
    "# word2vec"
   ]
  },
  {
   "cell_type": "markdown",
   "metadata": {},
   "source": [
    "## wczytanie modelu"
   ]
  },
  {
   "cell_type": "code",
   "execution_count": 1,
   "metadata": {
    "collapsed": true
   },
   "outputs": [],
   "source": [
    "from gensim.models.word2vec import Word2Vec\n",
    "\n",
    "model_fname = 'model'\n",
    "\n",
    "model = Word2Vec.load(model_fname)\n",
    "wv = model.wv"
   ]
  },
  {
   "cell_type": "markdown",
   "metadata": {},
   "source": [
    "## wyrażenia podobne"
   ]
  },
  {
   "cell_type": "code",
   "execution_count": 2,
   "metadata": {
    "collapsed": false
   },
   "outputs": [
    {
     "data": {
      "text/plain": [
       "[('sad_najwyższy', 0.789208173751831),\n",
       " ('trybunał_konstytucyjny', 0.7582725286483765),\n",
       " ('sn', 0.6780577301979065)]"
      ]
     },
     "execution_count": 2,
     "metadata": {},
     "output_type": "execute_result"
    }
   ],
   "source": [
    "wv.most_similar(positive=['sąd_najwyższy'], topn=3)"
   ]
  },
  {
   "cell_type": "code",
   "execution_count": 3,
   "metadata": {
    "collapsed": false
   },
   "outputs": [
    {
     "data": {
      "text/plain": [
       "[('trybunał', 0.8216362595558167),\n",
       " ('sąd_najwyższy', 0.7582725286483765),\n",
       " ('sad_najwyższy', 0.715900719165802)]"
      ]
     },
     "execution_count": 3,
     "metadata": {},
     "output_type": "execute_result"
    }
   ],
   "source": [
    "wv.most_similar(positive=['trybunał_konstytucyjny'], topn=3)"
   ]
  },
  {
   "cell_type": "code",
   "execution_count": 4,
   "metadata": {
    "collapsed": false
   },
   "outputs": [
    {
     "data": {
      "text/plain": [
       "[('prawo_wekslowe', 0.6383090615272522),\n",
       " ('kodeks_karny', 0.6356019973754883),\n",
       " ('kodeks_pracy', 0.6007641553878784)]"
      ]
     },
     "execution_count": 4,
     "metadata": {},
     "output_type": "execute_result"
    }
   ],
   "source": [
    "wv.most_similar(positive=['kodeks_cywilny'], topn=3)"
   ]
  },
  {
   "cell_type": "code",
   "execution_count": 5,
   "metadata": {
    "collapsed": false
   },
   "outputs": [
    {
     "data": {
      "text/plain": [
       "[('pkt_kpk', 0.8201305270195007),\n",
       " ('kpw', 0.766355037689209),\n",
       " ('kpc', 0.7400600910186768)]"
      ]
     },
     "execution_count": 5,
     "metadata": {},
     "output_type": "execute_result"
    }
   ],
   "source": [
    "wv.most_similar(positive=['kpk'], topn=3)"
   ]
  },
  {
   "cell_type": "code",
   "execution_count": 6,
   "metadata": {
    "collapsed": false
   },
   "outputs": [
    {
     "data": {
      "text/plain": [
       "[('sad_rejonowy', 0.8811819553375244),\n",
       " ('sąd_okręgowy', 0.8413026332855225),\n",
       " ('sąd_meriti', 0.8029004335403442)]"
      ]
     },
     "execution_count": 6,
     "metadata": {},
     "output_type": "execute_result"
    }
   ],
   "source": [
    "wv.most_similar(positive=['sąd_rejonowy'], topn=3)"
   ]
  },
  {
   "cell_type": "code",
   "execution_count": 7,
   "metadata": {
    "collapsed": false
   },
   "outputs": [
    {
     "data": {
      "text/plain": [
       "[('szkoda_ta', 0.7643934488296509),\n",
       " ('szkoda_majątkowa', 0.7148711085319519),\n",
       " ('wysokość_szkody', 0.676495373249054)]"
      ]
     },
     "execution_count": 7,
     "metadata": {},
     "output_type": "execute_result"
    }
   ],
   "source": [
    "wv.most_similar(positive=['szkoda'], topn=3)"
   ]
  },
  {
   "cell_type": "code",
   "execution_count": 8,
   "metadata": {
    "collapsed": false
   },
   "outputs": [
    {
     "data": {
      "text/plain": [
       "[('przedmiotowy_wypadek', 0.5403644442558289),\n",
       " ('wypadek_komunikacyjny', 0.5200176239013672),\n",
       " ('skutek', 0.4973249137401581)]"
      ]
     },
     "execution_count": 8,
     "metadata": {},
     "output_type": "execute_result"
    }
   ],
   "source": [
    "wv.most_similar(positive=['wypadek'], topn=3)"
   ]
  },
  {
   "cell_type": "code",
   "execution_count": 9,
   "metadata": {
    "collapsed": false
   },
   "outputs": [
    {
     "data": {
      "text/plain": [
       "[('kolizja_drogowa', 0.7340992093086243),\n",
       " ('awaria', 0.7187645435333252),\n",
       " ('usterka', 0.6854398250579834)]"
      ]
     },
     "execution_count": 9,
     "metadata": {},
     "output_type": "execute_result"
    }
   ],
   "source": [
    "wv.most_similar(positive=['kolizja'], topn=3)"
   ]
  },
  {
   "cell_type": "code",
   "execution_count": 10,
   "metadata": {
    "collapsed": false
   },
   "outputs": [
    {
     "data": {
      "text/plain": [
       "[('szkoda_ta', 0.746087908744812),\n",
       " ('szkoda', 0.7148711085319519),\n",
       " ('krzywda', 0.6924257278442383)]"
      ]
     },
     "execution_count": 10,
     "metadata": {},
     "output_type": "execute_result"
    }
   ],
   "source": [
    "wv.most_similar(positive=['szkoda_majątkowa'], topn=3)"
   ]
  },
  {
   "cell_type": "code",
   "execution_count": 11,
   "metadata": {
    "collapsed": false
   },
   "outputs": [
    {
     "data": {
      "text/plain": [
       "[('trujące', 0.6113100051879883),\n",
       " ('szczęściem', 0.6112188100814819),\n",
       " ('upojenie', 0.6094433665275574)]"
      ]
     },
     "execution_count": 11,
     "metadata": {},
     "output_type": "execute_result"
    }
   ],
   "source": [
    "wv.most_similar(positive=['nieszczęście'], topn=3)"
   ]
  },
  {
   "cell_type": "code",
   "execution_count": 12,
   "metadata": {
    "collapsed": false
   },
   "outputs": [
    {
     "data": {
      "text/plain": [
       "[('separację', 0.7108328342437744),\n",
       " ('rozwiązanie_małżeństwa', 0.678260326385498),\n",
       " ('orzeczenie_rozwodu', 0.628940224647522)]"
      ]
     },
     "execution_count": 12,
     "metadata": {},
     "output_type": "execute_result"
    }
   ],
   "source": [
    "wv.most_similar(positive=['rozwód'], topn=3)"
   ]
  },
  {
   "cell_type": "markdown",
   "metadata": {},
   "source": [
    "## operacje na słowach"
   ]
  },
  {
   "cell_type": "code",
   "execution_count": 13,
   "metadata": {
    "collapsed": false
   },
   "outputs": [
    {
     "data": {
      "text/plain": [
       "[('trybunał', 0.6149224042892456),\n",
       " ('trybunał_konstytucyjny', 0.6113895177841187),\n",
       " ('trybunał_sprawiedliwości', 0.5570698976516724),\n",
       " ('sad_najwyższy', 0.5439829230308533),\n",
       " ('ustawodawca', 0.5199770927429199)]"
      ]
     },
     "execution_count": 13,
     "metadata": {},
     "output_type": "execute_result"
    }
   ],
   "source": [
    "wv.most_similar(positive=['sąd_najwyższy', 'konstytucja'], negative=['kpc'], topn=5)"
   ]
  },
  {
   "cell_type": "code",
   "execution_count": 14,
   "metadata": {
    "collapsed": false
   },
   "outputs": [
    {
     "data": {
      "text/plain": [
       "[('pasażerka', 0.7437127828598022),\n",
       " ('piesza', 0.7306684851646423),\n",
       " ('kierująca', 0.717907726764679),\n",
       " ('rowerzystka', 0.673485517501831),\n",
       " ('kierująca_pojazdem', 0.6565858125686646)]"
      ]
     },
     "execution_count": 14,
     "metadata": {},
     "output_type": "execute_result"
    }
   ],
   "source": [
    "wv.most_similar(positive=['pasażer', 'kobieta'], negative=['mężczyzna'], topn=5)"
   ]
  },
  {
   "cell_type": "code",
   "execution_count": 15,
   "metadata": {
    "collapsed": false
   },
   "outputs": [
    {
     "data": {
      "text/plain": [
       "[('skuter', 0.6853002309799194),\n",
       " ('rower', 0.63478022813797),\n",
       " ('samochód_marki', 0.6301491260528564),\n",
       " ('pojazd', 0.6274740695953369),\n",
       " ('laptop', 0.6248205900192261)]"
      ]
     },
     "execution_count": 15,
     "metadata": {},
     "output_type": "execute_result"
    }
   ],
   "source": [
    "wv.most_similar(positive=['samochód', 'rzeka'], negative=['droga'], topn=5)"
   ]
  },
  {
   "cell_type": "markdown",
   "metadata": {},
   "source": [
    "## projekcja wektorów na płaszczyznę"
   ]
  },
  {
   "cell_type": "code",
   "execution_count": 17,
   "metadata": {
    "collapsed": false,
    "scrolled": true
   },
   "outputs": [
    {
     "data": {
      "image/png": "[encoded data removed]",
      "text/plain": [
       "<Figure size 432x288 with 1 Axes>"
      ]
     },
     "metadata": {},
     "output_type": "display_data"
    }
   ],
   "source": [
    "from sklearn.manifold import TSNE\n",
    "import matplotlib.pyplot as plt\n",
    "\n",
    "words = ['szkoda',\n",
    "         'strata',\n",
    "         'uszczerbek',\n",
    "         'szkoda_majątkowa',\n",
    "         'krzywda',\n",
    "         'niesprawiedliwość',\n",
    "         'nieszczęście']\n",
    "\n",
    "vectors = [wv[word] for word in words]\n",
    "vecs_embedded = TSNE(n_components=2).fit_transform(vectors)\n",
    "\n",
    "fig, ax = plt.subplots()\n",
    "x, y = zip(*vecs_embedded)\n",
    "ax.scatter(x, y)\n",
    "for i, txt in enumerate(words):\n",
    "    ax.annotate(txt, (x[i],y[i]))\n",
    "\n",
    "ax.grid()\n",
    "plt.show()"
   ]
  },
  {
   "cell_type": "code",
   "execution_count": null,
   "metadata": {
    "collapsed": true
   },
   "outputs": [],
   "source": []
  }
 ],
 "metadata": {
  "kernelspec": {
   "display_name": "Python 3",
   "language": "python",
   "name": "python3"
  },
  "language_info": {
   "codemirror_mode": {
    "name": "ipython",
    "version": 3
   },
   "file_extension": ".py",
   "mimetype": "text/x-python",
   "name": "python",
   "nbconvert_exporter": "python",
   "pygments_lexer": "ipython3",
   "version": "3.6.3"
  }
 },
 "nbformat": 4,
 "nbformat_minor": 2
}
